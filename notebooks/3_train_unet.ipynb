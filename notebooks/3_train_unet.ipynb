{
 "cells": [
  {
   "cell_type": "markdown",
   "metadata": {},
   "source": [
    "## U-Net: Convolutional networks for biomedical image segmentation (O. Ronneberger et al., 2015)"
   ]
  },
  {
   "cell_type": "code",
   "execution_count": null,
   "metadata": {},
   "outputs": [],
   "source": [
    "from pathlib import Path\n",
    "import pytorch_lightning as pl\n",
    "from fastmri.data.subsample import create_mask_for_mask_type\n",
    "from fastmri.data.transforms import UnetDataTransform\n",
    "from fastmri.pl_modules import FastMriDataModule, UnetModule\n",
    "\n",
    "import torch\n",
    "from torch.nn import functional as F\n",
    "\n",
    "import numpy as np\n",
    "import pytorch_lightning as pl\n",
    "from torch import nn\n",
    "from torchmetrics.metric import Metric\n",
    "\n",
    "import fastmri\n",
    "from fastmri.models.unet import ConvBlock, TransposeConvBlock\n",
    "from fastmri import evaluate\n",
    "from fastmri.pl_modules import MriModule\n",
    "from fastmri.pl_modules.mri_module import DistributedMetricSum"
   ]
  },
  {
   "cell_type": "markdown",
   "metadata": {},
   "source": [
    "## code below was adapted from the fastmri github in order to modify the UNET"
   ]
  },
  {
   "cell_type": "markdown",
   "metadata": {},
   "source": [
    "# Unet with Attention Gate"
   ]
  },
  {
   "cell_type": "code",
   "execution_count": null,
   "metadata": {},
   "outputs": [],
   "source": [
    "class attention_gate(nn.Module):\n",
    "    \"\"\"SOURCES: https://arxiv.org/pdf/1804.03999.pdf\n",
    "                https://idiotdeveloper.com/attention-unet-in-pytorch/\n",
    "       \n",
    "       AG is characterised by a set of parameters Θatt containing: linear transformations Wx ∈ Fl×Fint,\n",
    "       Wg ∈ Fg×Fint, ψ ∈ Fint×1 and bias terms. The linear transformations are computed using\n",
    "       channel-wise 1x1x1 convolutions for the input tensors. In other contexts [33], this is referred to as\n",
    "       vector concatenation-based attention, where the concatenated features x and g are linearly mapped\n",
    "       to a Fint dimensional intermediate space.\"\"\"\n",
    "    def __init__(self, F_g, F_l, F_int):\n",
    "        super().__init__()\n",
    " \n",
    "        self.Wg = nn.Sequential(\n",
    "            nn.Conv2d(F_g, F_int, kernel_size=1, padding=0),\n",
    "            nn.InstanceNorm2d(F_int),\n",
    "        )\n",
    "        self.Wx = nn.Sequential(\n",
    "            nn.Conv2d(F_l, F_int, kernel_size=1, padding=0),\n",
    "            nn.InstanceNorm2d(F_int),\n",
    "        )\n",
    "        self.relu = nn.ReLU(inplace=True)\n",
    "        \n",
    "        self.psi = nn.Sequential(\n",
    "            nn.Conv2d(F_int, 1, kernel_size=1,padding=0),\n",
    "            nn.InstanceNorm2d(1),\n",
    "        )\n",
    "        \n",
    "        self.Sigmoid = nn.Sigmoid()\n",
    "\n",
    "\n",
    "    def forward(self, g, x):\n",
    "        #g is the output from convolution\n",
    "        #x is the skip connection with corresponding dimensions in the downsample\n",
    "        Wg = self.Wg(g)\n",
    "        Wx = self.Wx(x)\n",
    "        alpha = self.relu(Wg + Wx)\n",
    "        alpha = self.psi(alpha)\n",
    "        alpha = self.Sigmoid(alpha)\n",
    "        return x * alpha"
   ]
  },
  {
   "cell_type": "code",
   "execution_count": null,
   "metadata": {},
   "outputs": [],
   "source": [
    "class AttentionUnet(nn.Module):\n",
    "    \"\"\"\n",
    "    PyTorch implementation of a U-Net model with Attention.\n",
    "    \"\"\"\n",
    "\n",
    "    def __init__(\n",
    "        self,\n",
    "        in_chans: int,\n",
    "        out_chans: int,\n",
    "        chans: int = 32,\n",
    "        num_pool_layers: int = 4,\n",
    "        drop_prob: float = 0.0,\n",
    "    ):\n",
    "        \"\"\"\n",
    "        Args:\n",
    "            in_chans: Number of channels in the input to the U-Net model.\n",
    "            out_chans: Number of channels in the output to the U-Net model.\n",
    "            chans: Number of output channels of the first convolution layer.\n",
    "            num_pool_layers: Number of down-sampling and up-sampling layers.\n",
    "            drop_prob: Dropout probability.\n",
    "        \"\"\"\n",
    "        super().__init__()\n",
    "\n",
    "        self.in_chans = in_chans\n",
    "        self.out_chans = out_chans\n",
    "        self.chans = chans\n",
    "        self.num_pool_layers = num_pool_layers\n",
    "        self.drop_prob = drop_prob\n",
    "\n",
    "        self.down_sample_layers = nn.ModuleList([ConvBlock(in_chans, chans, drop_prob)])\n",
    "\n",
    "        ch = chans\n",
    "        \n",
    "        for _ in range(num_pool_layers - 1):\n",
    "            self.down_sample_layers.append(ConvBlock(ch, ch * 2, drop_prob))\n",
    "            ch *= 2\n",
    "        \n",
    "        self.conv = ConvBlock(ch, ch * 2, drop_prob)\n",
    "\n",
    "        self.up_conv = nn.ModuleList()\n",
    "        self.up_transpose_conv = nn.ModuleList()\n",
    "        \n",
    "        #setup list of attention gates\n",
    "        self.attention_gates = nn.ModuleList()\n",
    "        \n",
    "        for _ in range(num_pool_layers - 1):\n",
    "            self.up_transpose_conv.append(TransposeConvBlock(ch * 2, ch))\n",
    "            self.up_conv.append(ConvBlock(ch * 2, ch, drop_prob))\n",
    "            \n",
    "            #append attention_gates into list\n",
    "            self.attention_gates.append(attention_gate(ch, ch, ch//2))\n",
    "            ch //= 2\n",
    "\n",
    "        self.up_transpose_conv.append(TransposeConvBlock(ch * 2, ch))\n",
    "        self.up_conv.append(\n",
    "            nn.Sequential(\n",
    "                ConvBlock(ch * 2, ch, drop_prob),\n",
    "                nn.Conv2d(ch, self.out_chans, kernel_size=1, stride=1),\n",
    "            )\n",
    "        )\n",
    "        \n",
    "        #append one more attention_gate into list\n",
    "        self.attention_gates.append(attention_gate(ch, ch, ch//2))\n",
    "        \n",
    "    def forward(self, image: torch.Tensor) -> torch.Tensor:\n",
    "        \"\"\"\n",
    "        Args:\n",
    "            image: Input 4D tensor of shape `(N, in_chans, H, W)`.\n",
    "\n",
    "        Returns:\n",
    "            Output tensor of shape `(N, out_chans, H, W)`.\n",
    "        \"\"\"\n",
    "        stack = []\n",
    "        output = image\n",
    "\n",
    "        # apply down-sampling layers\n",
    "        for layer in self.down_sample_layers:\n",
    "            output = layer(output)\n",
    "            stack.append(output)\n",
    "            output = F.avg_pool2d(output, kernel_size=2, stride=2, padding=0)\n",
    "\n",
    "        output = self.conv(output)\n",
    "\n",
    "        # apply up-sampling layers\n",
    "        for transpose_conv, conv, attention in zip(self.up_transpose_conv, self.up_conv, self.attention_gates):\n",
    "            downsample_layer = stack.pop()\n",
    "            output = transpose_conv(output)\n",
    "            \n",
    "            #calculate attention using the output from previous layer and skip connection layer\n",
    "            downsample_layer = attention(output, downsample_layer)\n",
    "            \n",
    "            # reflect pad on the right/botton if needed to handle odd input dimensions\n",
    "            padding = [0, 0, 0, 0]\n",
    "            if output.shape[-1] != downsample_layer.shape[-1]:\n",
    "                padding[1] = 1  # padding right\n",
    "            if output.shape[-2] != downsample_layer.shape[-2]:\n",
    "                padding[3] = 1  # padding bottom\n",
    "            if torch.sum(torch.tensor(padding)) != 0:\n",
    "                output = F.pad(output, padding, \"reflect\")\n",
    "            \n",
    "            output = torch.cat([output, downsample_layer], dim=1)\n",
    "            output = conv(output)\n",
    "\n",
    "        return output"
   ]
  },
  {
   "cell_type": "markdown",
   "metadata": {},
   "source": [
    "## Training"
   ]
  },
  {
   "cell_type": "markdown",
   "metadata": {},
   "source": [
    "### K-Space Mask for transforming the input data"
   ]
  },
  {
   "cell_type": "code",
   "execution_count": null,
   "metadata": {},
   "outputs": [],
   "source": [
    "mask_types = [\n",
    "    \"random\",\n",
    "    \"equispaced\",\n",
    "    \"equispaced_fraction\",\n",
    "    \"magic\",\n",
    "    \"magic_fraction\"\n",
    "]\n",
    "mask_type = mask_types[0]"
   ]
  },
  {
   "cell_type": "code",
   "execution_count": null,
   "metadata": {},
   "outputs": [],
   "source": [
    "# Number of center lines to use in mask\n",
    "center_fractions = [0.09]"
   ]
  },
  {
   "cell_type": "code",
   "execution_count": null,
   "metadata": {},
   "outputs": [],
   "source": [
    "# acceleration rates to use for masks\n",
    "accelerations = [4]"
   ]
  },
  {
   "cell_type": "code",
   "execution_count": null,
   "metadata": {},
   "outputs": [],
   "source": [
    "mask = create_mask_for_mask_type(\n",
    "    mask_type, center_fractions, accelerations\n",
    ")\n",
    "type(mask)"
   ]
  },
  {
   "cell_type": "markdown",
   "metadata": {},
   "source": [
    "## Datasets"
   ]
  },
  {
   "cell_type": "code",
   "execution_count": null,
   "metadata": {},
   "outputs": [],
   "source": [
    "# Data specific Parameters\n",
    "data_path = Path('../data/')\n",
    "test_path = Path('../data/singlecoil_test')\n",
    "challenge = \"singlecoil\"\n",
    "test_split = \"test\""
   ]
  },
  {
   "cell_type": "code",
   "execution_count": null,
   "metadata": {},
   "outputs": [],
   "source": [
    "# Fraction of slices in the dataset to use (train split only). \n",
    "# If not given all will be used. Cannot set together with volume_sample_rate.\n",
    "sample_rate = None\n",
    "val_sample_rate = None\n",
    "test_sample_rate = None\n",
    "volume_sample_rate = None\n",
    "val_volume_sample_rate = None\n",
    "test_volume_sample_rate = None\n",
    "use_dataset_cache_file = True\n",
    "combine_train_val = False\n",
    "\n",
    "# data loader arguments\n",
    "batch_size = 1\n",
    "num_workers = 0"
   ]
  },
  {
   "cell_type": "markdown",
   "metadata": {},
   "source": [
    "### use random masks for train transform, fixed masks for val transform"
   ]
  },
  {
   "cell_type": "code",
   "execution_count": null,
   "metadata": {},
   "outputs": [],
   "source": [
    "train_transform = UnetDataTransform(challenge, mask_func=mask, use_seed=False)\n",
    "train_transform"
   ]
  },
  {
   "cell_type": "code",
   "execution_count": null,
   "metadata": {},
   "outputs": [],
   "source": [
    "val_transform = UnetDataTransform(challenge, mask_func=mask)"
   ]
  },
  {
   "cell_type": "code",
   "execution_count": null,
   "metadata": {},
   "outputs": [],
   "source": [
    "test_transform = UnetDataTransform(challenge)"
   ]
  },
  {
   "cell_type": "code",
   "execution_count": null,
   "metadata": {},
   "outputs": [],
   "source": [
    "data_module = FastMriDataModule(\n",
    "        data_path=data_path,\n",
    "        challenge=challenge,\n",
    "        train_transform=train_transform,\n",
    "        val_transform=val_transform,\n",
    "        test_transform=test_transform,\n",
    "        test_split=test_split,\n",
    "        test_path=test_path,\n",
    "        sample_rate=sample_rate,\n",
    "        batch_size=batch_size,\n",
    "        num_workers=num_workers,\n",
    "        distributed_sampler=None,\n",
    ")\n",
    "data_module.challenge"
   ]
  },
  {
   "cell_type": "code",
   "execution_count": null,
   "metadata": {},
   "outputs": [],
   "source": [
    "# Verify access to datasets is ready...\n",
    "data_module.prepare_data()"
   ]
  },
  {
   "cell_type": "markdown",
   "metadata": {},
   "source": [
    "## UNet Model"
   ]
  },
  {
   "cell_type": "code",
   "execution_count": null,
   "metadata": {},
   "outputs": [],
   "source": [
    "##############################\n",
    "# UNet Model Hyperparameters #\n",
    "##############################\n",
    "in_chans=1          # number of input channels to U-Net\n",
    "out_chans=1         # number of output chanenls to U-Net\n",
    "chans=32            # number of top-level U-Net channels\n",
    "num_pool_layers=4   # number of U-Net pooling layers\n",
    "drop_prob=0.0       # dropout probability\n",
    "lr=0.001            # RMSProp learning rate\n",
    "lr_step_size=40     # epoch at which to decrease learning rate\n",
    "lr_gamma=0.1        # extent to which to decrease learning rate\n",
    "weight_decay=0.0    # weight decay regularization strength"
   ]
  },
  {
   "cell_type": "code",
   "execution_count": null,
   "metadata": {},
   "outputs": [],
   "source": [
    "unet_model = UnetModule(\n",
    "        in_chans=in_chans,\n",
    "        out_chans=out_chans,\n",
    "        chans=chans,\n",
    "        num_pool_layers=num_pool_layers,\n",
    "        drop_prob=drop_prob,\n",
    "        lr=lr,\n",
    "        lr_step_size=lr_step_size,\n",
    "        lr_gamma=lr_gamma,\n",
    "        weight_decay=weight_decay,\n",
    ")\n",
    "att_unet_model = "
   ]
  },
  {
   "cell_type": "markdown",
   "metadata": {},
   "source": [
    "## Trainer"
   ]
  },
  {
   "cell_type": "code",
   "execution_count": null,
   "metadata": {},
   "outputs": [],
   "source": [
    "trainer_config = dict(\n",
    "    #replace_sampler_ddp=False,    # this is necessary for volume dispatch during val\n",
    "    #strategy=\"ddp\",               # what distributed version to use\n",
    "    #seed=42,                      # random seed\n",
    "    accelerator = \"cpu\",\n",
    "    devices=1,                     # number of gpus to use\n",
    "    deterministic=True,            # makes things slower, but deterministic\n",
    "    default_root_dir='../logs',    # directory for logs and checkpoints\n",
    "    max_epochs=10,                 # max number of epochs\n",
    ")"
   ]
  },
  {
   "cell_type": "code",
   "execution_count": null,
   "metadata": {},
   "outputs": [],
   "source": [
    "trainer = pl.Trainer(**trainer_config)"
   ]
  },
  {
   "cell_type": "markdown",
   "metadata": {},
   "source": [
    "## Run Training"
   ]
  },
  {
   "cell_type": "code",
   "execution_count": null,
   "metadata": {},
   "outputs": [],
   "source": [
    "trainer.fit(model, datamodule=data_module)"
   ]
  }
 ],
 "metadata": {
  "kernelspec": {
   "display_name": "Python 3 (ipykernel)",
   "language": "python",
   "name": "python3"
  },
  "language_info": {
   "codemirror_mode": {
    "name": "ipython",
    "version": 3
   },
   "file_extension": ".py",
   "mimetype": "text/x-python",
   "name": "python",
   "nbconvert_exporter": "python",
   "pygments_lexer": "ipython3",
   "version": "3.10.10"
  }
 },
 "nbformat": 4,
 "nbformat_minor": 2
}
